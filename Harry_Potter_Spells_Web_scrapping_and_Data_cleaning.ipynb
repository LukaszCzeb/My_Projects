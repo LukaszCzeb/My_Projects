{
 "cells": [
  {
   "attachments": {},
   "cell_type": "markdown",
   "metadata": {},
   "source": [
    "# Harry Potter Web Scraping and Data Cleaning"
   ]
  },
  {
   "attachments": {},
   "cell_type": "markdown",
   "metadata": {},
   "source": [
    "Hi! In this project I scraped https://harrypotter.fandom.com/wiki/List_of_spells#A to get information about all spells from Harry Potter universum. I focused more on web scraping, data cleaning and data set preparation rather than on analysis. \n",
    "\n",
    "During analysis of page source I found that spells are displayed alphabetically in many different div tags, also part of them were in table (tl tag) and rest of them in description list (dl tag), so it was easier to scrap over full page source rather than particular div tags. Lot of descriptions are misspelled and have redundant elements, which need cleaning."
   ]
  },
  {
   "cell_type": "code",
   "execution_count": 1,
   "metadata": {},
   "outputs": [],
   "source": [
    "#importing packages\n",
    "import pandas as pd\n",
    "import numpy as np\n",
    "import matplotlib.pyplot as plt\n",
    "import seaborn as sns\n",
    "import requests \n",
    "from bs4 import BeautifulSoup"
   ]
  },
  {
   "cell_type": "code",
   "execution_count": 2,
   "metadata": {},
   "outputs": [
    {
     "name": "stdout",
     "output_type": "stream",
     "text": [
      "Page response: <Response [200]>\n"
     ]
    }
   ],
   "source": [
    "#using requests to get data\n",
    "url = 'https://harrypotter.fandom.com/wiki/List_of_spells#A'\n",
    "page = requests.get(url)\n",
    "\n",
    "print(f'Page response: {page}')"
   ]
  },
  {
   "cell_type": "code",
   "execution_count": 3,
   "metadata": {},
   "outputs": [],
   "source": [
    "soup = BeautifulSoup(page.content, 'html.parser')"
   ]
  },
  {
   "attachments": {},
   "cell_type": "markdown",
   "metadata": {},
   "source": [
    "## Number of spells"
   ]
  },
  {
   "cell_type": "code",
   "execution_count": 28,
   "metadata": {},
   "outputs": [
    {
     "name": "stdout",
     "output_type": "stream",
     "text": [
      "Number of spells: 313\n",
      "['Aberto', 'Accio', 'Age Line', 'Aguamenti', 'Alarte Ascendare', \"Albus Dumbledore's forceful spell\", 'Alohomora', 'Amato Animo Animato Animagus', 'Anapneo', 'Anteoculatia', 'Anti-Cheating Spell', 'Anti-Disapparition Jinx', 'Anti-intruder jinx', \"Antonin Dolohov's curse\", 'Aparecium', 'Appare Vestigium', 'Apparition', 'Aqua Eructo', 'Arania Exumai', 'Arresto Momentum', 'Arrow-shooting spell', 'Ascendio', 'Avada Kedavra', 'Avifors', 'Avenseguim', 'Avis', 'Babbling Curse', 'Badgering', 'Bat-Bogey Hex', 'Baubillious', 'Bedazzling Hex', 'Bewitched Snowballs', 'Bluebell Flames', 'Blue sparks', 'Bombarda', 'Bombarda Maxima', 'Brackium Emendo', 'Bravery Charm', 'Bridge-conjuring spell', 'Broom jinx', 'Bubble-Head Charm', 'Bubble Spell', 'Calvorio', 'Cantis', 'Capacious extremis', 'Carpe Retractum', 'Cascading Jinx', 'Caterwauling Charm', 'Cauldron to Sieve', 'Cauldron to badger', 'Cave inimicum', 'Celescere', 'Cheering Charm', 'Circumrota', 'Cistem Aperio', 'Colloportus', 'Colloshoo', 'Colovaria', 'Combat Bolt', 'Confringo', 'Confundo', 'Conjunctivitis Curse', 'Cornflake skin spell', 'Cracker Jinx', 'Cribbing Spell', 'Crinus Muto', 'Crucio', 'Defodio', 'Deletrius', 'Densaugeo', 'Deprimo', 'Depulso', 'Descendo', 'Desk Into Pig', 'Deterioration Hex', 'Diffindo', 'Diminuendo', 'Dissendium', 'Disillusionment Charm', 'Draconifors', 'Drought Charm', 'Ducklifors', 'Duro', 'Ears to kumquats spell', 'Ear-shrivelling Curse', 'Ebublio', 'Engorgio', 'Engorgio Skullus', 'Entomorphis', 'Entrail-Expelling Curse', 'Episkey', 'Epoximise', 'Erecto', 'Evanesce', 'Evanesco', 'Everte Statum', 'Expecto Patronum', 'Expelliarmus', 'Expulso', 'Extinguishing Spell', 'False memory spell', 'Feather-light charm', 'Ferret to human', 'Ferula', 'Fianto Duri', 'Fidelius Charm', 'Fiendfyre', 'Finestra', 'Finite Incantatem', 'Finger-removing jinx', 'Firestorm', 'Flagrante Curse', 'Flagrate', 'Flame-Freezing Charm', 'Flask-conjuring spell', 'Flintifors', 'Flipendo', 'Flipendo Duo', 'Flipendo Maxima', 'Flipendo Tria', 'Flying charm', 'Fracto Strata', 'Fumos', 'Fumos Duo', 'Furnunculus', 'Fur spell', 'Geminio', 'Glacius', 'Glacius Duo', 'Glacius Tria', 'Glisseo', 'Green Sparks', 'Gripping Charm', 'Gytrash-conjuring spell', 'Hair-thickening Charm', 'Harmonia Nectere Passus', 'Herbifors', 'Herbivicus', \"Hermione Granger's jinx\", 'Homing spell', 'Homenum Revelio', 'Homonculous Charm', 'Homorphus Charm', 'Horn tongue hex', 'Horton-Keitch Braking Charm', 'Horcrux-making spell', 'Hot Air Charm', 'Hour-Reversal Charm', 'Hover Charm', 'Hurling Hex', 'Illegibilus', 'Immobulus', 'Impedimenta', 'Imperio', 'Imperturbable Charm', 'Impervius', 'Inanimatus Conjurus', 'Incarcerous', 'Incendio', 'Incendio Duo', 'Incendio Tria', 'Inflatus', 'Informous', 'Instant scalping hex', 'Intruder Charm', 'Locomotor Wibbly', 'Jelly-Brain Jinx', 'Jelly-Fingers Curse', 'Knee-reversal hex', 'Lacarnum Inflamari', 'Langlock', 'Lapifors', 'Leek Jinx', 'Legilimens', 'Levicorpus', 'Liberacorpus', 'Locomotor', 'Locomotor Mortis', 'Lumos', 'Lumos Duo', 'Lumos Maxima', 'Lumos Solem', 'Magicus Extremos', 'Melofors', 'Meteolojinx Recanto', 'Mimblewimble', 'Ministry of Magic Fog', 'Mobiliarbus', 'Mobilicorpus', 'Molliare', 'Disintegration spell', 'Morsmordre', 'Mucus ad Nauseam', 'Muffliato', 'Multicorfors', 'Mutatio Skullus', 'Nox', 'Nebulus', 'Oculus Reparo', 'Obliteration Charm', 'Obliviate', 'Obscuro', 'Oppugno', 'Orbis', 'Orchideous', 'Oscausi', 'Pack', 'Pain extraction spell', 'Papyrus Reparo', 'Patented Daydream Charm', 'Partis Temporus', 'Pepper Breath', 'Periculum', 'Permanent Sticking Charm', 'Peskipiksi Pesternomi', 'Petrificus Totalus', 'Piertotum Locomotor', 'Piscifors', 'Placement Charm', 'Point Me', 'Portus', 'Prior Incantato', 'Protean Charm', 'Pullus', 'Protego', 'Protego Diabolica', 'Protego horribilis', 'Protego Maxima', 'Protego totalum', 'Purple Firecrackers', 'Pus-squirting spell', 'Quietus', 'Redactum Skullus', 'Reducio', 'Reducto', 'Refilling Charm', 'Reparifors', 'Reverte', 'Relashio', 'Rennervate', 'Reparifarge', 'Reparo', 'Repello Muggletum', 'Repello Inimicum', 'Revelio', 'Rictusempra', 'Riddikulus', 'Rose Growth', 'Rowboat spell', 'Salvio hexia', 'Sardine Hex', 'Sauce-making spell', 'Scorching Spell', 'Scourgify', 'Sealant Charm', 'Sea urchin jinx', 'Sectumsempra', 'Shield penetration spell', 'Shooting Spell', 'Smashing spell', 'Serpensortia', 'Silencio', 'Skurge', 'Slippery Jinx', 'Slugulus Eructo', 'Sonorous Charm', 'Sonorus', 'Specialis Revelio', 'Sponge-Knees Curse', 'Spongify', 'Squiggle Quill', 'Stealth Sensoring Spell', 'Sternius', 'Stinging Jinx', 'Stretching Jinx', 'Stupefy', 'Supersensory Charm', 'Surgito', 'Switching Spell', 'Taboo', 'Tail-growing spell', 'Tarantallegra', 'Teacup to tortoise', 'Teapot to tortoise', 'Teeth-straightening spell', 'Teleportation Spell', 'Tentaclifors', 'Tergeo', 'Titillando', 'Toenail-growing hex', 'Transmogrifian Torture', 'Tribuomnus', 'Trip Jinx', 'Twitchy-Ears Hex', 'Unbreakable Charm', 'Unbreakable Vow', 'Unsupported flight', 'Vacuum cleaner spell', 'Ventus', 'Ventus Duo', 'Vera Verto', 'Verdillious', 'Verdimillious', 'Verdimillious Duo', 'Vermiculus', 'Vermillious', \"Victor Rookwood's curse\", 'Vipera Evanesca', 'Vulnera Sanentur', 'Waddiwasi', 'Washing up spell', 'Wingardium Leviosa', 'White sparks']\n"
     ]
    }
   ],
   "source": [
    "#All spells are stored at h3 tag. I will check total number of spells to be sure that the final data frame has correct length and values.\n",
    "spells = soup.find_all('h3')\n",
    "spells_list = []\n",
    "for spell in spells:\n",
    "    if spell.find('a') != None:\n",
    "        spells_list.append(spell.find('a').getText())\n",
    "\n",
    "print(f'Number of spells: {len(spells_list)}')\n",
    "print(spells_list)"
   ]
  },
  {
   "attachments": {},
   "cell_type": "markdown",
   "metadata": {},
   "source": [
    "## List with all needed elements"
   ]
  },
  {
   "cell_type": "code",
   "execution_count": 82,
   "metadata": {},
   "outputs": [],
   "source": [
    "#In this code I will scrap over full page and I will create one list with all needed elements (spells name, type and other descriptions)\n",
    "\n",
    "children = soup.find_all()\n",
    "list = []\n",
    "for child in children:\n",
    "    if child.name == 'tr':    # some of descriptions are stored at tr tag and some at dl tag\n",
    "        row_of_child = child.find('td')\n",
    "        list.append(row_of_child.getText())\n",
    "    elif child.name == 'dl':\n",
    "        dl_parent = child.find_all('dd')\n",
    "        for dd in dl_parent:\n",
    "            list.append(dd.getText())\n",
    "    elif child.name == 'h3':  # all spells names are stored in h3 tag\n",
    "        if child.find('a') != None:  # some of h3 tags are empty and no needed so I prevent to look a tag inside them \n",
    "            list.append( child.find('a').getText())"
   ]
  },
  {
   "cell_type": "code",
   "execution_count": 83,
   "metadata": {},
   "outputs": [
    {
     "data": {
      "text/plain": [
       "['\\n',\n",
       " '\\n',\n",
       " 'Aberto',\n",
       " 'Type: Charm',\n",
       " 'Pronunciation: Ah-bare-toh',\n",
       " 'Description: A spell used to open doors.[1]',\n",
       " \"Etymology: Portuguese for 'open'. Compare Spanish 'abierto'.\",\n",
       " 'Accio',\n",
       " 'Type: Charm\\n',\n",
       " 'Pronunciation: Various, including: AK-ee-oh or AK-see-oh , AK-see-oh , AS-see-oh (US), and AT-chee-oh (Anglo-Catholic pronunciation)\\n']"
      ]
     },
     "execution_count": 83,
     "metadata": {},
     "output_type": "execute_result"
    }
   ],
   "source": [
    "list[:10]"
   ]
  },
  {
   "attachments": {},
   "cell_type": "markdown",
   "metadata": {},
   "source": [
    "Now when I have all needed strings in one list, I will prepare this and split to dictionary.\n",
    "\n",
    "Most of errors, which are corrected with code below I find and the end of program, when I compare data frame to spells list. When I find some errors I added code here and run program again. Manualy looking through the list before splitting into data frame would be too laborius."
   ]
  },
  {
   "cell_type": "code",
   "execution_count": 84,
   "metadata": {},
   "outputs": [
    {
     "data": {
      "text/plain": [
       "['',\n",
       " '',\n",
       " 'Aberto',\n",
       " 'Type: Charm',\n",
       " 'Pronunciation: Ah-bare-toh',\n",
       " 'Description: A spell used to open doors.[1]',\n",
       " \"Etymology: Portuguese for 'open'. Compare Spanish 'abierto'.\",\n",
       " 'Accio',\n",
       " 'Type: Charm',\n",
       " 'Pronunciation: Various, including: AK-ee-oh or AK-see-oh , AK-see-oh , AS-see-oh (US), and AT-chee-oh (Anglo-Catholic pronunciation)']"
      ]
     },
     "execution_count": 84,
     "metadata": {},
     "output_type": "execute_result"
    }
   ],
   "source": [
    "for row in range(len(list)):\n",
    "    list[row] = list[row].replace('\\n', '')     \n",
    "    list[row] = list[row].replace('Suggested Etymology', 'Etymology')\n",
    "    list[row] = list[row].replace('Seen/mentioned', 'Seen/Mentioned')\n",
    "    if list[row][:4] in 'Note':         #Lot of \"Notes\" has errors like: \"Note:\", \"Notes [different numbers]\", in this code I correct all of them, without chenging other values \n",
    "        split_row = list[row].split(':')[0]  #with this value I can check if Notes prefix is misspelled or not\n",
    "        #If I used only first condition, for loop would not repair 'Note' error, so I added second length condition\n",
    "        if (split_row not in 'Notes') or (len(split_row) != 5 and len(split_row) != 0):      \n",
    "            list[row] = list[row].replace(split_row, 'Notes')\n",
    "list[:10]"
   ]
  },
  {
   "cell_type": "code",
   "execution_count": 85,
   "metadata": {},
   "outputs": [
    {
     "data": {
      "text/plain": [
       "['Aberto',\n",
       " 'Type: Charm',\n",
       " 'Pronunciation: Ah-bare-toh',\n",
       " 'Description: A spell used to open doors.[1]',\n",
       " \"Etymology: Portuguese for 'open'. Compare Spanish 'abierto'.\",\n",
       " 'Accio',\n",
       " 'Type: Charm',\n",
       " 'Pronunciation: Various, including: AK-ee-oh or AK-see-oh , AK-see-oh , AS-see-oh (US), and AT-chee-oh (Anglo-Catholic pronunciation)',\n",
       " 'Description: Summons an object towards the caster. It is able to summon objects in direct line of sight of the caster, as well as things out of view, by calling the object aloud after the incantation (unless the spell is casted nonverbally). This spell needs thought behind it, and the object must be clear in the casters mind before trying to summon it.[2] The caster doesn\\'t necessarily need to know the location of the target if they say the name of the object to be summoned, such as when Hermione Granger summoned some books from Dumbledore\\'s office simply by saying \"Accio Horcrux books!\" while in Gryffindor Tower.',\n",
       " \"Seen/Mentioned: Harry Potter summoned his broom to complete the first task of the Triwizard Tournament in 1994, and to summon the Portkey to escape Voldemort and the Death Eaters in the Little Hangleton graveyard in 1995. Also, in the Battle of the Seven Potters Harry summoned Hagrid when he fell. Molly Weasley used it to get the twins' candy. The twins used it to summon their brooms from Dolores Umbridge's office\"]"
      ]
     },
     "execution_count": 85,
     "metadata": {},
     "output_type": "execute_result"
    }
   ],
   "source": [
    "# here I deleted empty strings\n",
    "list = [i for i in list if i]\n",
    "list[:10]"
   ]
  },
  {
   "attachments": {},
   "cell_type": "markdown",
   "metadata": {},
   "source": [
    "List is ready to be splitted to data frame."
   ]
  },
  {
   "attachments": {},
   "cell_type": "markdown",
   "metadata": {},
   "source": [
    "## Creating data frame\n"
   ]
  },
  {
   "attachments": {},
   "cell_type": "markdown",
   "metadata": {},
   "source": [
    "Here I will create for loop, which check each value in list and move this value to temporary variables. <br/>\n",
    "Variables will be then used to expand dictionary, one \"row\" in dictionary will contains description of spell. <br/>\n",
    "This temporary variables need be set to None of begining of each new spell, becouse some spells need to have null values. <br/>\n",
    "Every time then loop will find name of new spell, will expand dictionary, reset temporary variables and again will move new valiues to this temporary variables."
   ]
  },
  {
   "cell_type": "code",
   "execution_count": 86,
   "metadata": {},
   "outputs": [],
   "source": [
    "def set_variables_to_none():\n",
    "    \"\"\"\n",
    "    This funcion change or create global temporary values to None, thanks to this funciont data frame will has correct shape and null values.\n",
    "\n",
    "    Input: None\n",
    "    Output: create or change global temporary variables \n",
    "    \"\"\"\n",
    "    global xName, xType, xPron, xDesc, xSeen, xEty, xNotes \n",
    "    xName = xType = xPron = xDesc = xSeen = xEty = xNotes = None \n",
    "    return xName, xType, xPron, xDesc, xSeen, xEty, xNotes "
   ]
  },
  {
   "cell_type": "code",
   "execution_count": 87,
   "metadata": {},
   "outputs": [],
   "source": [
    "def update_dict():\n",
    "    \"\"\"\n",
    "    This funcion will expand dictionary, with values from temporary variables\n",
    "\n",
    "    Input: None\n",
    "    Output: update global spells_dict\n",
    "    \"\"\"\n",
    "    global spells_dict\n",
    "    spells_dict['Name'].append(xName)\n",
    "    spells_dict['Type'].append(xType)\n",
    "    spells_dict['Pronunciation'].append(xPron)\n",
    "    spells_dict['Description'].append(xDesc)\n",
    "    spells_dict['Seen/Mentioned'].append(xSeen)\n",
    "    spells_dict['Etymology'].append(xEty)\n",
    "    spells_dict['Notes'].append(xNotes)\n",
    "    "
   ]
  },
  {
   "cell_type": "code",
   "execution_count": 100,
   "metadata": {},
   "outputs": [],
   "source": [
    "prefixes = ['Type','Pronunciation','Description','Seen/Mentioned','Etymology','Notes']  #for loop will check if value from list has prefix\n",
    "\n",
    "#creating dictionary, which will be used to create Data Frame\n",
    "spells_dict = {'Name':[],'Type':[],'Pronunciation':[], 'Description':[], 'Seen/Mentioned':[],'Etymology':[],'Notes':[]}\n",
    "\n",
    "#preparing temporary varaibles\n",
    "set_variables_to_none()\n",
    "\n",
    "for x in range(len(list)):\n",
    "#only names of spells have not prefixes, so when it will find name, it will update dict with values from previous spell, reset temp values check values for new spell\n",
    "    if str(list[x]).split(':')[0] not in prefixes:  \n",
    "        update_dict()\n",
    "        set_variables_to_none()\n",
    "        xName = list[x]  \n",
    "    #in elifs loop check what is tape of description and move value to correct temporary values\n",
    "    elif 'Type' in str(list[x]): \n",
    "        xType = list[x]\n",
    "    elif 'Pronunciation' in str(list[x]):\n",
    "        xPron = list[x]\n",
    "    elif 'Description' in str(list[x]):\n",
    "        xDesc = list[x]\n",
    "    elif 'Seen/Mentioned' in str(list[x]):\n",
    "        xSeen = list[x]\n",
    "    elif 'Etymology' in str(list[x]):\n",
    "        xEty = list[x]\n",
    "    elif 'Notes' in str(list[x]):\n",
    "        xNotes = list[x]\n",
    "    #this if will add last spell to list (without it for loop will not add last spell, becouse there is no more spells to activate update_dict())\n",
    "    if x + 1 == len(list):\n",
    "        update_dict()\n",
    "        break"
   ]
  },
  {
   "attachments": {},
   "cell_type": "markdown",
   "metadata": {},
   "source": [
    "Here I will create data frame from dictionary. Becouse of for loop, first row in empty so I will delete it."
   ]
  },
  {
   "cell_type": "code",
   "execution_count": 101,
   "metadata": {},
   "outputs": [
    {
     "data": {
      "text/html": [
       "<div>\n",
       "<style scoped>\n",
       "    .dataframe tbody tr th:only-of-type {\n",
       "        vertical-align: middle;\n",
       "    }\n",
       "\n",
       "    .dataframe tbody tr th {\n",
       "        vertical-align: top;\n",
       "    }\n",
       "\n",
       "    .dataframe thead th {\n",
       "        text-align: right;\n",
       "    }\n",
       "</style>\n",
       "<table border=\"1\" class=\"dataframe\">\n",
       "  <thead>\n",
       "    <tr style=\"text-align: right;\">\n",
       "      <th></th>\n",
       "      <th>Name</th>\n",
       "      <th>Type</th>\n",
       "      <th>Pronunciation</th>\n",
       "      <th>Description</th>\n",
       "      <th>Seen/Mentioned</th>\n",
       "      <th>Etymology</th>\n",
       "      <th>Notes</th>\n",
       "    </tr>\n",
       "  </thead>\n",
       "  <tbody>\n",
       "    <tr>\n",
       "      <th>1</th>\n",
       "      <td>Aberto</td>\n",
       "      <td>Type: Charm</td>\n",
       "      <td>Pronunciation: Ah-bare-toh</td>\n",
       "      <td>Description: A spell used to open doors.[1]</td>\n",
       "      <td>None</td>\n",
       "      <td>Etymology: Portuguese for 'open'. Compare Span...</td>\n",
       "      <td>None</td>\n",
       "    </tr>\n",
       "    <tr>\n",
       "      <th>2</th>\n",
       "      <td>Accio</td>\n",
       "      <td>Type: Charm</td>\n",
       "      <td>Pronunciation: Various, including: AK-ee-oh or...</td>\n",
       "      <td>Description: Summons an object towards the cas...</td>\n",
       "      <td>Seen/Mentioned: Harry Potter summoned his broo...</td>\n",
       "      <td>Etymology: The Latin word accio means \"I call\"...</td>\n",
       "      <td>Notes: The Summoning Charm is unable to direct...</td>\n",
       "    </tr>\n",
       "    <tr>\n",
       "      <th>3</th>\n",
       "      <td>Age Line</td>\n",
       "      <td>Type: Charm</td>\n",
       "      <td>None</td>\n",
       "      <td>Description: Prevents people above or below a ...</td>\n",
       "      <td>Seen/Mentioned: Used by Albus Dumbledore to st...</td>\n",
       "      <td>None</td>\n",
       "      <td>None</td>\n",
       "    </tr>\n",
       "    <tr>\n",
       "      <th>4</th>\n",
       "      <td>Aguamenti</td>\n",
       "      <td>Type: Charm, Conjuration</td>\n",
       "      <td>Pronunciation: AH-gwah-MEN-tee</td>\n",
       "      <td>Description: Produces a clean, drinkable jet o...</td>\n",
       "      <td>Seen/Mentioned: Used by Fleur Delacour in 1994...</td>\n",
       "      <td>Etymology: Possibly a hybrid of Latin words aq...</td>\n",
       "      <td>None</td>\n",
       "    </tr>\n",
       "    <tr>\n",
       "      <th>5</th>\n",
       "      <td>Alarte Ascendare</td>\n",
       "      <td>Type: Charm</td>\n",
       "      <td>Pronunciation: a-LAR-tay a-SEN-der-ay</td>\n",
       "      <td>Description: Shoots the target high into the air.</td>\n",
       "      <td>Seen/Mentioned: Used by Gilderoy Lockhart in 1...</td>\n",
       "      <td>Etymology: Ascendere is a Latin infinitive mea...</td>\n",
       "      <td>None</td>\n",
       "    </tr>\n",
       "  </tbody>\n",
       "</table>\n",
       "</div>"
      ],
      "text/plain": [
       "               Name                      Type  \\\n",
       "1            Aberto               Type: Charm   \n",
       "2             Accio               Type: Charm   \n",
       "3          Age Line               Type: Charm   \n",
       "4         Aguamenti  Type: Charm, Conjuration   \n",
       "5  Alarte Ascendare               Type: Charm   \n",
       "\n",
       "                                       Pronunciation  \\\n",
       "1                         Pronunciation: Ah-bare-toh   \n",
       "2  Pronunciation: Various, including: AK-ee-oh or...   \n",
       "3                                               None   \n",
       "4                     Pronunciation: AH-gwah-MEN-tee   \n",
       "5              Pronunciation: a-LAR-tay a-SEN-der-ay   \n",
       "\n",
       "                                         Description  \\\n",
       "1        Description: A spell used to open doors.[1]   \n",
       "2  Description: Summons an object towards the cas...   \n",
       "3  Description: Prevents people above or below a ...   \n",
       "4  Description: Produces a clean, drinkable jet o...   \n",
       "5  Description: Shoots the target high into the air.   \n",
       "\n",
       "                                      Seen/Mentioned  \\\n",
       "1                                               None   \n",
       "2  Seen/Mentioned: Harry Potter summoned his broo...   \n",
       "3  Seen/Mentioned: Used by Albus Dumbledore to st...   \n",
       "4  Seen/Mentioned: Used by Fleur Delacour in 1994...   \n",
       "5  Seen/Mentioned: Used by Gilderoy Lockhart in 1...   \n",
       "\n",
       "                                           Etymology  \\\n",
       "1  Etymology: Portuguese for 'open'. Compare Span...   \n",
       "2  Etymology: The Latin word accio means \"I call\"...   \n",
       "3                                               None   \n",
       "4  Etymology: Possibly a hybrid of Latin words aq...   \n",
       "5  Etymology: Ascendere is a Latin infinitive mea...   \n",
       "\n",
       "                                               Notes  \n",
       "1                                               None  \n",
       "2  Notes: The Summoning Charm is unable to direct...  \n",
       "3                                               None  \n",
       "4                                               None  \n",
       "5                                               None  "
      ]
     },
     "execution_count": 101,
     "metadata": {},
     "output_type": "execute_result"
    }
   ],
   "source": [
    "df = pd.DataFrame(spells_dict)\n",
    "df = df.iloc[1:]\n",
    "df.head()"
   ]
  },
  {
   "attachments": {},
   "cell_type": "markdown",
   "metadata": {},
   "source": [
    "Data frame looks good, it only need little cleaning and will be ready for analysis."
   ]
  },
  {
   "cell_type": "code",
   "execution_count": 102,
   "metadata": {},
   "outputs": [
    {
     "data": {
      "text/plain": [
       "array(['Type: Charm', 'Type: Charm, Conjuration', 'Type: Spell',\n",
       "       'Type: Transfiguration', 'Type: Healing Spell, Vanishment',\n",
       "       'Type: Dark charm', 'Type: Jinx', 'Type: Curse',\n",
       "       'Type: Transportation', 'Type: Conjuration',\n",
       "       'Type: Conjuration, Charm', 'Type: Hex', 'Type: Charm[15]',\n",
       "       'Type: Charm, Healing Spell', None, 'Type: Transfiguration, Jinx',\n",
       "       'Type: Jinx, Transfiguration', 'Type: Healing Spell',\n",
       "       'Type: Conjuration, Healing spell', 'Type: Counter-Spell',\n",
       "       'Type: Conjuration, Dark Arts', 'Type: Dark Arts',\n",
       "       'Type: Curse, Jinx', 'Type: Counter-Jinx', 'Type: Counter-Charm',\n",
       "       'Type: Unknown', 'Type: Untransfiguration', 'Type: Jinx, Hex',\n",
       "       'Type: Counter-charm', 'Type: Vanishment'], dtype=object)"
      ]
     },
     "execution_count": 102,
     "metadata": {},
     "output_type": "execute_result"
    }
   ],
   "source": [
    "# Lot of spells has multiple types, so I will split them to main type and to secondary type\n",
    "df.Type.unique()"
   ]
  },
  {
   "cell_type": "code",
   "execution_count": 103,
   "metadata": {},
   "outputs": [],
   "source": [
    "# during splitting, padnas gave future warning, which is not usefull for me in this program so I turned this off\n",
    "import warnings\n",
    "warnings.simplefilter(action='ignore', category=FutureWarning)"
   ]
  },
  {
   "attachments": {},
   "cell_type": "markdown",
   "metadata": {},
   "source": [
    "Cleaning dataset"
   ]
  },
  {
   "cell_type": "code",
   "execution_count": 104,
   "metadata": {},
   "outputs": [],
   "source": [
    "\n",
    "df.Type = df.Type.str[6:]  #Removing Type prefix\n",
    "df.Type = df.Type.str.replace('\\[\\d+\\]','') #removing \"[some numbers]\" from strings\n",
    "# splitting type column to 2 columns\n",
    "df['Second_Type'] = df['Type'].str.split(', ', expand=True)[1] \n",
    "df.Type = df['Type'].str.split(', ', expand=True)[0]\n",
    "\n",
    "# removing prefixes and \"[some numbers]\"\n",
    "df.Pronunciation = df.Pronunciation.str[15:]\n",
    "\n",
    "df.Description = df.Description.str[13:]\n",
    "df.Description = df.Description.str.replace('\\[\\d+\\]','')\n",
    "\n",
    "df['Seen/Mentioned'] = df['Seen/Mentioned'].str[16:] #here I used square brackets becouse of \"/\" in column name\n",
    "df.Etymology = df.Etymology.str[11:]\n",
    "df.Notes = df.Notes.str[7:]\n",
    "\n"
   ]
  },
  {
   "attachments": {},
   "cell_type": "markdown",
   "metadata": {},
   "source": [
    "## Checking final Data Frame"
   ]
  },
  {
   "cell_type": "code",
   "execution_count": 105,
   "metadata": {},
   "outputs": [
    {
     "data": {
      "text/html": [
       "<div>\n",
       "<style scoped>\n",
       "    .dataframe tbody tr th:only-of-type {\n",
       "        vertical-align: middle;\n",
       "    }\n",
       "\n",
       "    .dataframe tbody tr th {\n",
       "        vertical-align: top;\n",
       "    }\n",
       "\n",
       "    .dataframe thead th {\n",
       "        text-align: right;\n",
       "    }\n",
       "</style>\n",
       "<table border=\"1\" class=\"dataframe\">\n",
       "  <thead>\n",
       "    <tr style=\"text-align: right;\">\n",
       "      <th></th>\n",
       "      <th>Name</th>\n",
       "      <th>Type</th>\n",
       "      <th>Pronunciation</th>\n",
       "      <th>Description</th>\n",
       "      <th>Seen/Mentioned</th>\n",
       "      <th>Etymology</th>\n",
       "      <th>Notes</th>\n",
       "      <th>Second_Type</th>\n",
       "    </tr>\n",
       "  </thead>\n",
       "  <tbody>\n",
       "    <tr>\n",
       "      <th>1</th>\n",
       "      <td>Aberto</td>\n",
       "      <td>Charm</td>\n",
       "      <td>Ah-bare-toh</td>\n",
       "      <td>A spell used to open doors.</td>\n",
       "      <td>None</td>\n",
       "      <td>Portuguese for 'open'. Compare Spanish 'abierto'.</td>\n",
       "      <td>None</td>\n",
       "      <td>None</td>\n",
       "    </tr>\n",
       "    <tr>\n",
       "      <th>2</th>\n",
       "      <td>Accio</td>\n",
       "      <td>Charm</td>\n",
       "      <td>Various, including: AK-ee-oh or AK-see-oh , AK...</td>\n",
       "      <td>Summons an object towards the caster. It is ab...</td>\n",
       "      <td>Harry Potter summoned his broom to complete th...</td>\n",
       "      <td>The Latin word accio means \"I call\" or \"I summ...</td>\n",
       "      <td>The Summoning Charm is unable to directly summ...</td>\n",
       "      <td>None</td>\n",
       "    </tr>\n",
       "    <tr>\n",
       "      <th>3</th>\n",
       "      <td>Age Line</td>\n",
       "      <td>Charm</td>\n",
       "      <td>None</td>\n",
       "      <td>Prevents people above or below a certain age f...</td>\n",
       "      <td>Used by Albus Dumbledore to stop underage stud...</td>\n",
       "      <td>None</td>\n",
       "      <td>None</td>\n",
       "      <td>None</td>\n",
       "    </tr>\n",
       "    <tr>\n",
       "      <th>4</th>\n",
       "      <td>Aguamenti</td>\n",
       "      <td>Charm</td>\n",
       "      <td>AH-gwah-MEN-tee</td>\n",
       "      <td>Produces a clean, drinkable jet of water from ...</td>\n",
       "      <td>Used by Fleur Delacour in 1994 to extinguish h...</td>\n",
       "      <td>Possibly a hybrid of Latin words aqua, which m...</td>\n",
       "      <td>None</td>\n",
       "      <td>Conjuration</td>\n",
       "    </tr>\n",
       "    <tr>\n",
       "      <th>5</th>\n",
       "      <td>Alarte Ascendare</td>\n",
       "      <td>Charm</td>\n",
       "      <td>a-LAR-tay a-SEN-der-ay</td>\n",
       "      <td>Shoots the target high into the air.</td>\n",
       "      <td>Used by Gilderoy Lockhart in 1992 to send a sn...</td>\n",
       "      <td>Ascendere is a Latin infinitive meaning \"to go...</td>\n",
       "      <td>None</td>\n",
       "      <td>None</td>\n",
       "    </tr>\n",
       "  </tbody>\n",
       "</table>\n",
       "</div>"
      ],
      "text/plain": [
       "               Name   Type                                      Pronunciation  \\\n",
       "1            Aberto  Charm                                        Ah-bare-toh   \n",
       "2             Accio  Charm  Various, including: AK-ee-oh or AK-see-oh , AK...   \n",
       "3          Age Line  Charm                                               None   \n",
       "4         Aguamenti  Charm                                    AH-gwah-MEN-tee   \n",
       "5  Alarte Ascendare  Charm                             a-LAR-tay a-SEN-der-ay   \n",
       "\n",
       "                                         Description  \\\n",
       "1                        A spell used to open doors.   \n",
       "2  Summons an object towards the caster. It is ab...   \n",
       "3  Prevents people above or below a certain age f...   \n",
       "4  Produces a clean, drinkable jet of water from ...   \n",
       "5               Shoots the target high into the air.   \n",
       "\n",
       "                                      Seen/Mentioned  \\\n",
       "1                                               None   \n",
       "2  Harry Potter summoned his broom to complete th...   \n",
       "3  Used by Albus Dumbledore to stop underage stud...   \n",
       "4  Used by Fleur Delacour in 1994 to extinguish h...   \n",
       "5  Used by Gilderoy Lockhart in 1992 to send a sn...   \n",
       "\n",
       "                                           Etymology  \\\n",
       "1  Portuguese for 'open'. Compare Spanish 'abierto'.   \n",
       "2  The Latin word accio means \"I call\" or \"I summ...   \n",
       "3                                               None   \n",
       "4  Possibly a hybrid of Latin words aqua, which m...   \n",
       "5  Ascendere is a Latin infinitive meaning \"to go...   \n",
       "\n",
       "                                               Notes  Second_Type  \n",
       "1                                               None         None  \n",
       "2  The Summoning Charm is unable to directly summ...         None  \n",
       "3                                               None         None  \n",
       "4                                               None  Conjuration  \n",
       "5                                               None         None  "
      ]
     },
     "execution_count": 105,
     "metadata": {},
     "output_type": "execute_result"
    }
   ],
   "source": [
    "df.head()"
   ]
  },
  {
   "cell_type": "code",
   "execution_count": 106,
   "metadata": {},
   "outputs": [
    {
     "data": {
      "text/plain": [
       "(313, 8)"
      ]
     },
     "execution_count": 106,
     "metadata": {},
     "output_type": "execute_result"
    }
   ],
   "source": [
    "df.shape"
   ]
  },
  {
   "attachments": {},
   "cell_type": "markdown",
   "metadata": {},
   "source": [
    "Data frame has correct shape and looks clean. \n",
    "\n",
    "At first I missed some spells or add few wrong rows, so with this for loops below I compare data frame to list of spells names. <br/> If I found something I added additional\n",
    "conditions to cleaning loop and run program again until I no longer had wrong values"
   ]
  },
  {
   "cell_type": "code",
   "execution_count": 107,
   "metadata": {},
   "outputs": [
    {
     "name": "stdout",
     "output_type": "stream",
     "text": [
      "Number of errors: 0\n"
     ]
    }
   ],
   "source": [
    "# Here I check if there is some spells in spells list which are not mentioned in data frame\n",
    "counter = 0\n",
    "for x in spells_list:\n",
    "    if x not in df.Name.values:\n",
    "        counter += 1\n",
    "        print(x)\n",
    "        \n",
    "print(f'Number of errors: {counter}')"
   ]
  },
  {
   "cell_type": "code",
   "execution_count": 108,
   "metadata": {},
   "outputs": [
    {
     "name": "stdout",
     "output_type": "stream",
     "text": [
      "Number of errors: 0\n"
     ]
    }
   ],
   "source": [
    "# Here I check if there is some additional wrong spells in data frame, which are not mentioned in data frame  (for example for loop could take 'Notes [4]:' as new spell)\n",
    "counter = 0\n",
    "for x in df.Name.values:\n",
    "    if x not in spells_list:\n",
    "        counter += 1\n",
    "        print(x)\n",
    "\n",
    "print(f'Number of errors: {counter}')"
   ]
  },
  {
   "attachments": {},
   "cell_type": "markdown",
   "metadata": {},
   "source": [
    "## Nubmer of spells by type\n",
    "\n",
    "Here I created basic chart, to check if data frame is ready for some analysis. I did not do anything more with this dataset, becouse I achieved my goal of web scrapping and data cleaning."
   ]
  },
  {
   "cell_type": "code",
   "execution_count": 109,
   "metadata": {},
   "outputs": [
    {
     "data": {
      "image/png": "[encoded data removed]",
      "text/plain": [
       "<Figure size 1000x700 with 1 Axes>"
      ]
     },
     "metadata": {},
     "output_type": "display_data"
    }
   ],
   "source": [
    "sns.set_style('whitegrid')\n",
    "\n",
    "order = df.Type.value_counts().index \n",
    "\n",
    "ax = plt.figure(figsize=(10,7))\n",
    "ax = sns.countplot( data = df, x = 'Type', order = order)\n",
    "ax.bar_label(ax.containers[0]) # adding value to each bar\n",
    "\n",
    "ax.set_ylabel('Number of spells')\n",
    "ax.set_xlabel('Spell Type')\n",
    "plt.title('Number of spells by type from universe of Harry Potter')\n",
    "plt.xticks(rotation=45)\n",
    "plt.show()"
   ]
  },
  {
   "attachments": {},
   "cell_type": "markdown",
   "metadata": {},
   "source": [
    "# Thanks for reading\n",
    "\n",
    "Autor: Łukasz "
   ]
  }
 ],
 "metadata": {
  "kernelspec": {
   "display_name": "Python 3",
   "language": "python",
   "name": "python3"
  },
  "language_info": {
   "codemirror_mode": {
    "name": "ipython",
    "version": 3
   },
   "file_extension": ".py",
   "mimetype": "text/x-python",
   "name": "python",
   "nbconvert_exporter": "python",
   "pygments_lexer": "ipython3",
   "version": "3.10.10"
  },
  "orig_nbformat": 4,
  "vscode": {
   "interpreter": {
    "hash": "84e20ae80be5ff466becd4b4ea513a30d47cdaa7cee88a9743b5acbd221d75cd"
   }
  }
 },
 "nbformat": 4,
 "nbformat_minor": 2
}
